{
 "cells": [
  {
   "cell_type": "markdown",
   "metadata": {},
   "source": [
    "## Welcome to RayStation Scripting in Jupyter Notebooks\n",
    "Click on the cell below and press Shift+Enter to connect to RayStation."
   ]
  },
  {
   "cell_type": "code",
   "execution_count": 1,
   "metadata": {},
   "outputs": [
    {
     "name": "stdout",
     "output_type": "stream",
     "text": [
      "Connecting to RayStation. (Session id = 8676_1 )\n"
     ]
    }
   ],
   "source": [
    "import clr\n",
    "import os\n",
    "import sys\n",
    "\n",
    "clr.AddReference('System')\n",
    "clr.AddReference(\"C:Program Files\\RaySearch Laboratories\\RayStation 8B SP2\\ScriptClient\\ScriptClient.dll\")\n",
    "\n",
    "import ScriptClient\n",
    "\n",
    "# Uncomment the following section to connect to RayStation\n",
    "#-------------------------------------------------------\n",
    "sys.path.append(\"C:Program Files\\RaySearch Laboratories\\RayStation 8B SP2\")\n",
    "sys.path.append(\"C:Program Files\\RaySearch Laboratories\\RayStation 8B SP2\\ScriptClient\")\n",
    "#os.environ['RAYSTATION_PID'] = \"7688_1\"\n",
    "#-------------------------------------------------------\n",
    "\n",
    "from connect import *\n"
   ]
  },
  {
   "cell_type": "markdown",
   "metadata": {},
   "source": [
    "The cell below will open RayStation Python objects currently open in RayStation "
   ]
  },
  {
   "cell_type": "code",
   "execution_count": 2,
   "metadata": {},
   "outputs": [
    {
     "name": "stdout",
     "output_type": "stream",
     "text": [
      "Variable 'case' is set to case with name: \"Case 1\"\n",
      "Variable 'plan' is set to plan with name: \"BreR_3DC_R0A0\"\n",
      "Variable 'beam_set' is set to beam set with name: \"BreR_3DC_R0A0\"\n",
      "Variable 'examination' is set to examination with name: \"CT 1\"\n",
      "Variable 'machine_db' is set to the current machine database\n",
      "Variable 'patient_db' is set to the current patient database\n",
      "Variable 'ui' is set to the current ui\n",
      "Imported statetree\n"
     ]
    }
   ],
   "source": [
    "try:\n",
    "\n",
    "    patient = get_current(\"Patient\")\n",
    "    print('Variable \\'patient\\' is set to patient with name: ' + '\"' + patient.PatientName + '\"')\n",
    "except:\n",
    "    pass\n",
    "try:\n",
    "    case = get_current(\"Case\")\n",
    "    print('Variable \\'case\\' is set to case with name: \"{0}\"'.format(case.CaseName))\n",
    "except:\n",
    "    pass    \n",
    "try:\n",
    "    plan = get_current(\"Plan\")\n",
    "    print('Variable \\'plan\\' is set to plan with name: \"{0}\"'.format(plan.Name))\n",
    "except:\n",
    "    pass\n",
    "try:\n",
    "    beam_set = get_current(\"BeamSet\")\n",
    "    print('Variable \\'beam_set\\' is set to beam set with name: \"{0}\"'.format(beam_set.DicomPlanLabel))\n",
    "except:\n",
    "    pass\n",
    "try:\n",
    "    examination = get_current(\"Examination\")\n",
    "    print('Variable \\'examination\\' is set to examination with name: \"{0}\"'.format(examination.Name))\n",
    "except:\n",
    "    pass\n",
    "try:\n",
    "    machine_db = get_current(\"MachineDB\")\n",
    "    print(\"Variable \\'machine_db\\' is set to the current machine database\")\n",
    "except:\n",
    "    pass\n",
    "try:\n",
    "    patient_db = get_current(\"PatientDB\")\n",
    "    print(\"Variable \\'patient_db\\' is set to the current patient database\")\n",
    "except:\n",
    "    pass\n",
    "try:\n",
    "    ui = get_current(\"ui\")\n",
    "    print(\"Variable \\'ui\\' is set to the current ui\")\n",
    "except:\n",
    "    pass\n",
    "try:\n",
    "    import statetree\n",
    "    print(\"Imported statetree\")\n",
    "except:\n",
    "    pass"
   ]
  },
  {
   "cell_type": "code",
   "execution_count": 7,
   "metadata": {},
   "outputs": [
    {
     "ename": "TypeError",
     "evalue": "bad operand type for unary +: 'str'",
     "output_type": "error",
     "traceback": [
      "\u001b[1;31m---------------------------------------------------------------------------\u001b[0m",
      "\u001b[1;31mTypeError\u001b[0m                                 Traceback (most recent call last)",
      "\u001b[1;32m<ipython-input-7-689427577d62>\u001b[0m in \u001b[0;36m<module>\u001b[1;34m\u001b[0m\n\u001b[0;32m      1\u001b[0m \u001b[1;34m\"Patient Orientation Error\"\u001b[0m\u001b[1;33m\u001b[0m\u001b[0m\n\u001b[1;32m----> 2\u001b[1;33m \u001b[1;33m+\u001b[0m \u001b[1;34m\"The script requires a patient in the head-first prone position. \"\u001b[0m\u001b[1;33m\u001b[0m\u001b[0m\n\u001b[0m\u001b[0;32m      3\u001b[0m \u001b[1;33m+\u001b[0m \u001b[1;34m\"The currently selected exam is not HFP. Exiting script.\"\u001b[0m\u001b[1;33m\u001b[0m\u001b[0m\n",
      "\u001b[1;31mTypeError\u001b[0m: bad operand type for unary +: 'str'"
     ]
    }
   ],
   "source": [
    "\"Patient Orientation Error\" \n",
    "+ \"The script requires a patient in the head-first prone position. \"\n",
    "+ \"The currently selected exam is not HFP. Exiting script.\""
   ]
  },
  {
   "cell_type": "code",
   "execution_count": 4,
   "metadata": {},
   "outputs": [
    {
     "data": {
      "text/plain": [
       "2"
      ]
     },
     "execution_count": 4,
     "metadata": {},
     "output_type": "execute_result"
    }
   ],
   "source": [
    "len(case.Examinations)"
   ]
  },
  {
   "cell_type": "code",
   "execution_count": 5,
   "metadata": {},
   "outputs": [
    {
     "data": {
      "text/plain": [
       "connect.connect_cpython.PyScriptObjectCollection"
      ]
     },
     "execution_count": 5,
     "metadata": {},
     "output_type": "execute_result"
    }
   ],
   "source": [
    "type(case.Examinations)"
   ]
  },
  {
   "cell_type": "code",
   "execution_count": 8,
   "metadata": {},
   "outputs": [
    {
     "name": "stdout",
     "output_type": "stream",
     "text": [
      "CT 2 is not DIBH\n",
      "CT 1 is not DIBH\n"
     ]
    }
   ],
   "source": [
    "for ss in case.PatientModel.StructureSets:\n",
    "    if ss.OnExamination.Name != \"DIBH\":\n",
    "        print(f\"{ss.OnExamination.Name} is not DIBH\")"
   ]
  },
  {
   "cell_type": "code",
   "execution_count": 9,
   "metadata": {},
   "outputs": [
    {
     "ename": "ModuleNotFoundError",
     "evalue": "No module named 'StructureOperations'",
     "output_type": "error",
     "traceback": [
      "\u001b[1;31m---------------------------------------------------------------------------\u001b[0m",
      "\u001b[1;31mModuleNotFoundError\u001b[0m                       Traceback (most recent call last)",
      "\u001b[1;32m<ipython-input-9-ad9b68655693>\u001b[0m in \u001b[0;36m<module>\u001b[1;34m\u001b[0m\n\u001b[1;32m----> 1\u001b[1;33m \u001b[1;32mimport\u001b[0m \u001b[0mStructureOperations\u001b[0m\u001b[1;33m\u001b[0m\u001b[0m\n\u001b[0m",
      "\u001b[1;31mModuleNotFoundError\u001b[0m: No module named 'StructureOperations'"
     ]
    }
   ],
   "source": [
    "sys.path.append(\"C:Program Files\\RaySearch Laboratories\\RayStation 8B SP2\")\n",
    "import StructureOperations"
   ]
  },
  {
   "cell_type": "code",
   "execution_count": 8,
   "metadata": {},
   "outputs": [],
   "source": []
  },
  {
   "cell_type": "code",
   "execution_count": null,
   "metadata": {},
   "outputs": [],
   "source": []
  }
 ],
 "metadata": {
  "kernelspec": {
   "display_name": "Python 3",
   "language": "python",
   "name": "python3"
  },
  "language_info": {
   "codemirror_mode": {
    "name": "ipython",
    "version": 3
   },
   "file_extension": ".py",
   "mimetype": "text/x-python",
   "name": "python",
   "nbconvert_exporter": "python",
   "pygments_lexer": "ipython3",
   "version": "3.6.5"
  }
 },
 "nbformat": 4,
 "nbformat_minor": 4
}
